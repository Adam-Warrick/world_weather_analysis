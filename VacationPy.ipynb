{
 "cells": [
  {
   "cell_type": "code",
   "execution_count": 1,
   "id": "3c0d2a49",
   "metadata": {},
   "outputs": [],
   "source": [
    "# Import Dependencies\n",
    "\n",
    "import pandas as pd\n",
    "\n",
    "import gmaps\n",
    "\n",
    "import requests\n",
    "\n",
    "#Import the API key\n",
    "\n",
    "from config import g_key"
   ]
  },
  {
   "cell_type": "code",
   "execution_count": 2,
   "id": "73d2f08b",
   "metadata": {},
   "outputs": [
    {
     "data": {
      "text/html": [
       "<div>\n",
       "<style scoped>\n",
       "    .dataframe tbody tr th:only-of-type {\n",
       "        vertical-align: middle;\n",
       "    }\n",
       "\n",
       "    .dataframe tbody tr th {\n",
       "        vertical-align: top;\n",
       "    }\n",
       "\n",
       "    .dataframe thead th {\n",
       "        text-align: right;\n",
       "    }\n",
       "</style>\n",
       "<table border=\"1\" class=\"dataframe\">\n",
       "  <thead>\n",
       "    <tr style=\"text-align: right;\">\n",
       "      <th></th>\n",
       "      <th>City_ID</th>\n",
       "      <th>City</th>\n",
       "      <th>Country</th>\n",
       "      <th>Date</th>\n",
       "      <th>Lat</th>\n",
       "      <th>Lng</th>\n",
       "      <th>Max Temp</th>\n",
       "      <th>Humidity</th>\n",
       "      <th>Cloudiness</th>\n",
       "      <th>Wind Speed</th>\n",
       "    </tr>\n",
       "  </thead>\n",
       "  <tbody>\n",
       "    <tr>\n",
       "      <th>0</th>\n",
       "      <td>0</td>\n",
       "      <td>Rikitea</td>\n",
       "      <td>PF</td>\n",
       "      <td>2022-10-11 02:07:56</td>\n",
       "      <td>-23.1203</td>\n",
       "      <td>-134.9692</td>\n",
       "      <td>72.00</td>\n",
       "      <td>72</td>\n",
       "      <td>47</td>\n",
       "      <td>1.19</td>\n",
       "    </tr>\n",
       "    <tr>\n",
       "      <th>1</th>\n",
       "      <td>1</td>\n",
       "      <td>Srednekolymsk</td>\n",
       "      <td>RU</td>\n",
       "      <td>2022-10-11 02:07:57</td>\n",
       "      <td>67.4500</td>\n",
       "      <td>153.6833</td>\n",
       "      <td>24.44</td>\n",
       "      <td>73</td>\n",
       "      <td>41</td>\n",
       "      <td>14.41</td>\n",
       "    </tr>\n",
       "    <tr>\n",
       "      <th>2</th>\n",
       "      <td>2</td>\n",
       "      <td>Macia</td>\n",
       "      <td>MZ</td>\n",
       "      <td>2022-10-11 02:07:57</td>\n",
       "      <td>-25.0269</td>\n",
       "      <td>33.0989</td>\n",
       "      <td>68.02</td>\n",
       "      <td>94</td>\n",
       "      <td>0</td>\n",
       "      <td>0.92</td>\n",
       "    </tr>\n",
       "    <tr>\n",
       "      <th>3</th>\n",
       "      <td>3</td>\n",
       "      <td>Zhigansk</td>\n",
       "      <td>RU</td>\n",
       "      <td>2022-10-11 02:07:58</td>\n",
       "      <td>66.7697</td>\n",
       "      <td>123.3711</td>\n",
       "      <td>19.51</td>\n",
       "      <td>87</td>\n",
       "      <td>21</td>\n",
       "      <td>8.43</td>\n",
       "    </tr>\n",
       "    <tr>\n",
       "      <th>4</th>\n",
       "      <td>4</td>\n",
       "      <td>East London</td>\n",
       "      <td>ZA</td>\n",
       "      <td>2022-10-11 02:07:58</td>\n",
       "      <td>-33.0153</td>\n",
       "      <td>27.9116</td>\n",
       "      <td>68.59</td>\n",
       "      <td>81</td>\n",
       "      <td>100</td>\n",
       "      <td>15.17</td>\n",
       "    </tr>\n",
       "  </tbody>\n",
       "</table>\n",
       "</div>"
      ],
      "text/plain": [
       "   City_ID           City Country                 Date      Lat       Lng  \\\n",
       "0        0        Rikitea      PF  2022-10-11 02:07:56 -23.1203 -134.9692   \n",
       "1        1  Srednekolymsk      RU  2022-10-11 02:07:57  67.4500  153.6833   \n",
       "2        2          Macia      MZ  2022-10-11 02:07:57 -25.0269   33.0989   \n",
       "3        3       Zhigansk      RU  2022-10-11 02:07:58  66.7697  123.3711   \n",
       "4        4    East London      ZA  2022-10-11 02:07:58 -33.0153   27.9116   \n",
       "\n",
       "   Max Temp  Humidity  Cloudiness  Wind Speed  \n",
       "0     72.00        72          47        1.19  \n",
       "1     24.44        73          41       14.41  \n",
       "2     68.02        94           0        0.92  \n",
       "3     19.51        87          21        8.43  \n",
       "4     68.59        81         100       15.17  "
      ]
     },
     "execution_count": 2,
     "metadata": {},
     "output_type": "execute_result"
    }
   ],
   "source": [
    "# Store the csv you saved created in part one into a Data Frame\n",
    "\n",
    "city_data_df = pd.read_csv(\"weather_data/cities.csv\")\n",
    "\n",
    "city_data_df.head()"
   ]
  },
  {
   "cell_type": "code",
   "execution_count": 3,
   "id": "6db34415",
   "metadata": {},
   "outputs": [
    {
     "data": {
      "text/plain": [
       "City_ID         int64\n",
       "City           object\n",
       "Country        object\n",
       "Date           object\n",
       "Lat           float64\n",
       "Lng           float64\n",
       "Max Temp      float64\n",
       "Humidity        int64\n",
       "Cloudiness      int64\n",
       "Wind Speed    float64\n",
       "dtype: object"
      ]
     },
     "execution_count": 3,
     "metadata": {},
     "output_type": "execute_result"
    }
   ],
   "source": [
    "city_data_df.dtypes"
   ]
  },
  {
   "cell_type": "code",
   "execution_count": 4,
   "id": "75841754",
   "metadata": {},
   "outputs": [],
   "source": [
    "# Configure gmaps to use your Google API key\n",
    "\n",
    "gmaps.configure(api_key=g_key)"
   ]
  },
  {
   "cell_type": "code",
   "execution_count": 5,
   "id": "b6e18226",
   "metadata": {},
   "outputs": [],
   "source": [
    "# Get max temps without negatives\n",
    "\n",
    "max_temp = city_data_df[\"Max Temp\"]\n",
    "\n",
    "temps = []\n"
   ]
  },
  {
   "cell_type": "code",
   "execution_count": 6,
   "id": "3962b47a",
   "metadata": {},
   "outputs": [
    {
     "data": {
      "application/vnd.jupyter.widget-view+json": {
       "model_id": "eca44d69609d4aadb5403969b2e40484",
       "version_major": 2,
       "version_minor": 0
      },
      "text/plain": [
       "Figure(layout=FigureLayout(height='420px'))"
      ]
     },
     "metadata": {},
     "output_type": "display_data"
    }
   ],
   "source": [
    "# Create a heatmap for max temp\n",
    "# Assign the locations to an array of latitude and longitude pairs.\n",
    "\n",
    "locations = city_data_df[[\"Lat\", \"Lng\"]]\n",
    "\n",
    "#Assign the weights variable to some values. \n",
    "\n",
    "max_temp = city_data_df[\"Max Temp\"]\n",
    "\n",
    "# Assign the figure variable to the gmaps.figure() attribute.\n",
    "\n",
    "fig = gmaps.figure(center=(30.0, 31.0), zoom_level=1.5)\n",
    "\n",
    "# Assign the heatmap_layer variable to the heatmap_layer attribute and add in the locations. \n",
    "\n",
    "heatmap_layer = gmaps.heatmap_layer(locations, weights=[max(temp, 0) for temp in max_temp], dissipating=False, max_intensity=300, point_radius=4)\n",
    "\n",
    "\n",
    "# Add the heatmap layer\n",
    "\n",
    "fig.add_layer(heatmap_layer)\n",
    "\n",
    "# Call the figure to plot the data\n",
    "\n",
    "fig"
   ]
  },
  {
   "cell_type": "code",
   "execution_count": 7,
   "id": "f64b4518",
   "metadata": {},
   "outputs": [
    {
     "data": {
      "application/vnd.jupyter.widget-view+json": {
       "model_id": "0883dc1ed9bd429980fab2c8295a77a5",
       "version_major": 2,
       "version_minor": 0
      },
      "text/plain": [
       "Figure(layout=FigureLayout(height='420px'))"
      ]
     },
     "metadata": {},
     "output_type": "display_data"
    }
   ],
   "source": [
    "# Heatmap of percent humidity\n",
    "\n",
    "locations = city_data_df[[\"Lat\", \"Lng\"]]\n",
    "\n",
    "humidity = city_data_df[\"Humidity\"]\n",
    "\n",
    "fig = gmaps.figure(center=(30.0, 31.0), zoom_level=1.5)\n",
    "\n",
    "heat_layer = gmaps.heatmap_layer(locations, weights=humidity, dissipating=False, max_intensity=300, point_radius=4)\n",
    "\n",
    "fig.add_layer(heat_layer)\n",
    "\n",
    "# Call the figure to plot the data.\n",
    "fig"
   ]
  },
  {
   "cell_type": "code",
   "execution_count": 8,
   "id": "03e40c11",
   "metadata": {},
   "outputs": [
    {
     "data": {
      "application/vnd.jupyter.widget-view+json": {
       "model_id": "7abb1190d4ab48a6b0118ac5e0c128f9",
       "version_major": 2,
       "version_minor": 0
      },
      "text/plain": [
       "Figure(layout=FigureLayout(height='420px'))"
      ]
     },
     "metadata": {},
     "output_type": "display_data"
    }
   ],
   "source": [
    "# Heatmap of percent Cloudiness\n",
    "\n",
    "locations = city_data_df[[\"Lat\", \"Lng\"]]\n",
    "\n",
    "clouds = city_data_df[\"Cloudiness\"]\n",
    "\n",
    "fig = gmaps.figure(center=(30.0, 31.0), zoom_level=1.5)\n",
    "\n",
    "heat_layer = gmaps.heatmap_layer(locations, weights=clouds, dissipating=False, max_intensity=300, point_radius=4)\n",
    "\n",
    "fig.add_layer(heat_layer)\n",
    "\n",
    "# Call the figure to plot the data.\n",
    "fig"
   ]
  },
  {
   "cell_type": "code",
   "execution_count": 9,
   "id": "ad4cc3a6",
   "metadata": {},
   "outputs": [
    {
     "data": {
      "application/vnd.jupyter.widget-view+json": {
       "model_id": "8b8d8966d75d4fc187c0b828911f7d45",
       "version_major": 2,
       "version_minor": 0
      },
      "text/plain": [
       "Figure(layout=FigureLayout(height='420px'))"
      ]
     },
     "metadata": {},
     "output_type": "display_data"
    }
   ],
   "source": [
    "# Heatmap of wind mph\n",
    "\n",
    "locations = city_data_df[[\"Lat\", \"Lng\"]]\n",
    "\n",
    "wind = city_data_df[\"Wind Speed\"]\n",
    "\n",
    "fig = gmaps.figure(center=(30.0, 31.0), zoom_level=1.5)\n",
    "\n",
    "heat_layer = gmaps.heatmap_layer(locations, weights=wind, dissipating=False, max_intensity=300, point_radius=4)\n",
    "\n",
    "fig.add_layer(heat_layer)\n",
    "\n",
    "# Call the figure to plot the data.\n",
    "fig"
   ]
  },
  {
   "cell_type": "code",
   "execution_count": 10,
   "id": "f986d9a7",
   "metadata": {},
   "outputs": [
    {
     "name": "stdout",
     "output_type": "stream",
     "text": [
      "What is the minimum temperature you would like for your trip? 75\n",
      "What is the maximum temperature you would like for your trip? 90\n"
     ]
    }
   ],
   "source": [
    "# Ask the custoer to add a minimum and maximum temperature value.\n",
    "\n",
    "min_temp = float(input(\"What is the minimum temperature you would like for your trip? \"))\n",
    "\n",
    "max_temp = float(input(\"What is the maximum temperature you would like for your trip? \"))"
   ]
  },
  {
   "cell_type": "code",
   "execution_count": 11,
   "id": "f5f99b53",
   "metadata": {},
   "outputs": [
    {
     "data": {
      "text/plain": [
       "City_ID       158\n",
       "City          158\n",
       "Country       158\n",
       "Date          158\n",
       "Lat           158\n",
       "Lng           158\n",
       "Max Temp      158\n",
       "Humidity      158\n",
       "Cloudiness    158\n",
       "Wind Speed    158\n",
       "dtype: int64"
      ]
     },
     "execution_count": 11,
     "metadata": {},
     "output_type": "execute_result"
    }
   ],
   "source": [
    "preferred_cities_df = city_data_df.loc[(city_data_df[\"Max Temp\"] <= max_temp) & \\\n",
    "                                       (city_data_df[\"Max Temp\"]>=min_temp)]\n",
    "preferred_cities_df.count()"
   ]
  },
  {
   "cell_type": "code",
   "execution_count": 12,
   "id": "666b8449",
   "metadata": {},
   "outputs": [
    {
     "data": {
      "text/html": [
       "<div>\n",
       "<style scoped>\n",
       "    .dataframe tbody tr th:only-of-type {\n",
       "        vertical-align: middle;\n",
       "    }\n",
       "\n",
       "    .dataframe tbody tr th {\n",
       "        vertical-align: top;\n",
       "    }\n",
       "\n",
       "    .dataframe thead th {\n",
       "        text-align: right;\n",
       "    }\n",
       "</style>\n",
       "<table border=\"1\" class=\"dataframe\">\n",
       "  <thead>\n",
       "    <tr style=\"text-align: right;\">\n",
       "      <th></th>\n",
       "      <th>City</th>\n",
       "      <th>Country</th>\n",
       "      <th>Max Temp</th>\n",
       "      <th>Lat</th>\n",
       "      <th>Lng</th>\n",
       "      <th>Hotel Name</th>\n",
       "    </tr>\n",
       "  </thead>\n",
       "  <tbody>\n",
       "    <tr>\n",
       "      <th>5</th>\n",
       "      <td>Cabo Rojo</td>\n",
       "      <td>PR</td>\n",
       "      <td>79.97</td>\n",
       "      <td>18.0866</td>\n",
       "      <td>-67.1457</td>\n",
       "      <td></td>\n",
       "    </tr>\n",
       "    <tr>\n",
       "      <th>8</th>\n",
       "      <td>Lorengau</td>\n",
       "      <td>PG</td>\n",
       "      <td>85.10</td>\n",
       "      <td>-2.0226</td>\n",
       "      <td>147.2712</td>\n",
       "      <td></td>\n",
       "    </tr>\n",
       "    <tr>\n",
       "      <th>11</th>\n",
       "      <td>Ambulu</td>\n",
       "      <td>ID</td>\n",
       "      <td>81.18</td>\n",
       "      <td>-8.3450</td>\n",
       "      <td>113.6058</td>\n",
       "      <td></td>\n",
       "    </tr>\n",
       "    <tr>\n",
       "      <th>23</th>\n",
       "      <td>Kavieng</td>\n",
       "      <td>PG</td>\n",
       "      <td>84.90</td>\n",
       "      <td>-2.5744</td>\n",
       "      <td>150.7967</td>\n",
       "      <td></td>\n",
       "    </tr>\n",
       "    <tr>\n",
       "      <th>26</th>\n",
       "      <td>Hilo</td>\n",
       "      <td>US</td>\n",
       "      <td>84.27</td>\n",
       "      <td>19.7297</td>\n",
       "      <td>-155.0900</td>\n",
       "      <td></td>\n",
       "    </tr>\n",
       "    <tr>\n",
       "      <th>31</th>\n",
       "      <td>Waingapu</td>\n",
       "      <td>ID</td>\n",
       "      <td>87.28</td>\n",
       "      <td>-9.6567</td>\n",
       "      <td>120.2641</td>\n",
       "      <td></td>\n",
       "    </tr>\n",
       "    <tr>\n",
       "      <th>39</th>\n",
       "      <td>Pangai</td>\n",
       "      <td>TO</td>\n",
       "      <td>76.15</td>\n",
       "      <td>-19.8000</td>\n",
       "      <td>-174.3500</td>\n",
       "      <td></td>\n",
       "    </tr>\n",
       "    <tr>\n",
       "      <th>41</th>\n",
       "      <td>Kampong Thum</td>\n",
       "      <td>KH</td>\n",
       "      <td>76.68</td>\n",
       "      <td>12.7111</td>\n",
       "      <td>104.8887</td>\n",
       "      <td></td>\n",
       "    </tr>\n",
       "    <tr>\n",
       "      <th>46</th>\n",
       "      <td>Kapaa</td>\n",
       "      <td>US</td>\n",
       "      <td>84.18</td>\n",
       "      <td>22.0752</td>\n",
       "      <td>-159.3190</td>\n",
       "      <td></td>\n",
       "    </tr>\n",
       "    <tr>\n",
       "      <th>48</th>\n",
       "      <td>Nago</td>\n",
       "      <td>JP</td>\n",
       "      <td>75.63</td>\n",
       "      <td>26.5881</td>\n",
       "      <td>127.9761</td>\n",
       "      <td></td>\n",
       "    </tr>\n",
       "  </tbody>\n",
       "</table>\n",
       "</div>"
      ],
      "text/plain": [
       "            City Country  Max Temp      Lat       Lng Hotel Name\n",
       "5      Cabo Rojo      PR     79.97  18.0866  -67.1457           \n",
       "8       Lorengau      PG     85.10  -2.0226  147.2712           \n",
       "11        Ambulu      ID     81.18  -8.3450  113.6058           \n",
       "23       Kavieng      PG     84.90  -2.5744  150.7967           \n",
       "26          Hilo      US     84.27  19.7297 -155.0900           \n",
       "31      Waingapu      ID     87.28  -9.6567  120.2641           \n",
       "39        Pangai      TO     76.15 -19.8000 -174.3500           \n",
       "41  Kampong Thum      KH     76.68  12.7111  104.8887           \n",
       "46         Kapaa      US     84.18  22.0752 -159.3190           \n",
       "48          Nago      JP     75.63  26.5881  127.9761           "
      ]
     },
     "execution_count": 12,
     "metadata": {},
     "output_type": "execute_result"
    }
   ],
   "source": [
    "# Create a DataFrame called hotel_df to store hotel names along with city, country, max temp, and coordinates. \n",
    "\n",
    "hotel_df = preferred_cities_df[[\"City\", \"Country\", \"Max Temp\", \"Lat\", \"Lng\"]].copy()\n",
    "\n",
    "hotel_df[\"Hotel Name\"] = \"\"\n",
    "\n",
    "hotel_df.head(10)"
   ]
  },
  {
   "cell_type": "code",
   "execution_count": 13,
   "id": "e323ed22",
   "metadata": {},
   "outputs": [],
   "source": [
    "# Set parameters to search for a hotel\n",
    "\n",
    "import requests\n",
    "\n",
    "import gmaps\n",
    "\n",
    "from config import g_key\n",
    "\n",
    "params = {\n",
    "    \"radius\": 5000,\n",
    "    \"type\": \"lodging\",\n",
    "    \"key\": g_key\n",
    "}"
   ]
  },
  {
   "cell_type": "code",
   "execution_count": 28,
   "id": "7fdabd1c",
   "metadata": {},
   "outputs": [],
   "source": [
    "# Iterate through the DataFrame.\n",
    "\n",
    "for index, row in hotel_df.iterrows():\n",
    "    \n",
    "    # Get the latitude and longitude.\n",
    "    \n",
    "    lat = row[\"Lat\"]\n",
    "    lng = row[\"Lng\"]\n",
    "\n",
    "    # Add the latitude and longitude to location key for the params dictionary.\n",
    "    \n",
    "    params[\"location\"] = f\"{lat},{lng}\"\n",
    "\n",
    "    # Use the search term: \"lodging\" and our latitude and longitude.\n",
    "    \n",
    "    base_url = \"https://maps.googleapis.com/maps/api/place/nearbysearch/json\"\n",
    "    \n",
    "    # Make request and get the JSON data from the search.\n",
    "    \n",
    "    hotels = requests.get(base_url, params=params).json()\n",
    "    # Grab the first hotel from the results and store the name.\n",
    "    \n",
    "try:\n",
    "    hotel_df.loc[index, \"Hotel Name\"] = hotels[\"results\"][0][\"name\"]\n",
    "except (IndexError):\n",
    "    print(\"Hotel not found... skipping.\")"
   ]
  },
  {
   "cell_type": "code",
   "execution_count": 29,
   "id": "dde71e3c",
   "metadata": {},
   "outputs": [
    {
     "data": {
      "application/vnd.jupyter.widget-view+json": {
       "model_id": "166ade4aadfc496ba44d2ef8d5146762",
       "version_major": 2,
       "version_minor": 0
      },
      "text/plain": [
       "Figure(layout=FigureLayout(height='420px'))"
      ]
     },
     "metadata": {},
     "output_type": "display_data"
    }
   ],
   "source": [
    "# Add a heatmap of temperature for the vacation spots and a pop-up marker for each city.\n",
    "\n",
    "locations = hotel_df[[\"Lat\", \"Lng\"]]\n",
    "\n",
    "max_temp = hotel_df[\"Max Temp\"]\n",
    "\n",
    "fig = gmaps.figure(center=(30.0, 31.0), zoom_level=1.5)\n",
    "\n",
    "heat_layer = gmaps.heatmap_layer(locations, weights=max_temp,dissipating=False,                                 \n",
    "             max_intensity=300, point_radius=4)\n",
    "\n",
    "marker_layer = gmaps.marker_layer(locations, info_box_content=hotel_info)\n",
    "\n",
    "fig.add_layer(heat_layer)\n",
    "\n",
    "fig.add_layer(marker_layer)\n",
    "\n",
    "# Call the figure to plot the data.\n",
    "fig"
   ]
  },
  {
   "cell_type": "code",
   "execution_count": 24,
   "id": "472033fc",
   "metadata": {},
   "outputs": [],
   "source": []
  },
  {
   "cell_type": "code",
   "execution_count": null,
   "id": "792c9e27",
   "metadata": {},
   "outputs": [],
   "source": []
  }
 ],
 "metadata": {
  "kernelspec": {
   "display_name": "Python 3 (ipykernel)",
   "language": "python",
   "name": "python3"
  },
  "language_info": {
   "codemirror_mode": {
    "name": "ipython",
    "version": 3
   },
   "file_extension": ".py",
   "mimetype": "text/x-python",
   "name": "python",
   "nbconvert_exporter": "python",
   "pygments_lexer": "ipython3",
   "version": "3.9.12"
  }
 },
 "nbformat": 4,
 "nbformat_minor": 5
}
